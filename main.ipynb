{
 "cells": [
  {
   "cell_type": "code",
   "execution_count": 93,
   "metadata": {
    "pycharm": {
     "name": "#%%\n"
    }
   },
   "outputs": [],
   "source": [
    "import pandas as pd\n",
    "import numpy as np\n",
    "\n",
    "import seaborn as sns\n",
    "\n",
    "from dask import dataframe as dd\n",
    "import dask\n",
    "\n",
    "import pickle\n",
    "\n",
    "from keras.models import Sequential, load_model\n",
    "from keras.layers import Dense\n",
    "from keras.optimizers import SGD\n",
    "\n",
    "import tensorflow as tf\n",
    "\n",
    "from sklearn.neural_network import MLPClassifier\n",
    "from sklearn.metrics import confusion_matrix, roc_auc_score\n",
    "from sklearn.model_selection import RepeatedKFold, cross_val_score, train_test_split\n",
    "\n",
    "from dask_ml.linear_model import LogisticRegression\n",
    "from dask_ml.preprocessing import OneHotEncoder, MinMaxScaler\n",
    "from dask_ml.model_selection import train_test_split"
   ]
  },
  {
   "cell_type": "code",
   "execution_count": 94,
   "outputs": [],
   "source": [
    "not_enough_ram = False"
   ],
   "metadata": {
    "collapsed": false,
    "pycharm": {
     "name": "#%%\n"
    }
   }
  },
  {
   "cell_type": "markdown",
   "metadata": {
    "heading_collapsed": true,
    "pycharm": {
     "name": "#%% md\n"
    }
   },
   "source": [
    "## Загрузка датафреймов"
   ]
  },
  {
   "cell_type": "code",
   "execution_count": 95,
   "outputs": [],
   "source": [
    "# df = pd.read_pickle('data/ga_sessions.pkl')\n",
    "# print(df.shape)\n",
    "# df.head()"
   ],
   "metadata": {
    "collapsed": false,
    "pycharm": {
     "name": "#%%\n"
    }
   }
  },
  {
   "cell_type": "code",
   "execution_count": 96,
   "outputs": [],
   "source": [
    "# df_hits = pd.read_pickle('data/ga_hits.pkl')\n",
    "# print(df_hits.shape)\n",
    "# df_hits.head()"
   ],
   "metadata": {
    "collapsed": false,
    "pycharm": {
     "name": "#%%\n"
    }
   }
  },
  {
   "cell_type": "code",
   "execution_count": 97,
   "metadata": {
    "pycharm": {
     "name": "#%%\n"
    }
   },
   "outputs": [],
   "source": [
    "# df['target'] = df['session_id'].isin(df_hits['session_id'].unique()).apply(lambda x: 1 if x else 0)\n",
    "# df.head()"
   ]
  },
  {
   "cell_type": "code",
   "execution_count": 98,
   "metadata": {
    "pycharm": {
     "name": "#%%\n"
    }
   },
   "outputs": [],
   "source": [
    "# df.to_pickle('data/data_with_target.pickle')"
   ]
  },
  {
   "cell_type": "code",
   "execution_count": 99,
   "metadata": {
    "pycharm": {
     "name": "#%%\n"
    }
   },
   "outputs": [],
   "source": [
    "df = pd.read_pickle('data/data_with_target.pickle')"
   ]
  },
  {
   "cell_type": "markdown",
   "metadata": {
    "pycharm": {
     "name": "#%% md\n"
    }
   },
   "source": [
    "## Data cleaning"
   ]
  },
  {
   "cell_type": "markdown",
   "metadata": {
    "pycharm": {
     "name": "#%% md\n"
    }
   },
   "source": [
    "### Заполнение пустых строк"
   ]
  },
  {
   "cell_type": "code",
   "execution_count": 100,
   "metadata": {
    "pycharm": {
     "name": "#%%\n"
    }
   },
   "outputs": [
    {
     "data": {
      "text/plain": "session_id                   0.000000\nclient_id                    0.000000\nvisit_date                   0.000000\nvisit_time                   0.000000\nvisit_number                 0.000000\nutm_source                   0.005215\nutm_medium                   0.000000\nutm_campaign                11.806346\nutm_adcontent               18.043410\nutm_keyword                 58.174009\ndevice_category              0.000000\ndevice_os                   57.533002\ndevice_brand                 6.380394\ndevice_model                99.121633\ndevice_screen_resolution     0.000000\ndevice_browser               0.000000\ngeo_country                  0.000000\ngeo_city                     0.000000\ntarget                       0.000000\ndtype: float64"
     },
     "execution_count": 100,
     "metadata": {},
     "output_type": "execute_result"
    }
   ],
   "source": [
    "df.isna().sum() * 100 / len(df)"
   ]
  },
  {
   "cell_type": "code",
   "execution_count": 101,
   "metadata": {
    "pycharm": {
     "name": "#%%\n"
    }
   },
   "outputs": [],
   "source": [
    "df = df.drop(['device_model', 'utm_keyword'], axis=1)"
   ]
  },
  {
   "cell_type": "code",
   "execution_count": 102,
   "metadata": {
    "pycharm": {
     "name": "#%%\n"
    }
   },
   "outputs": [
    {
     "data": {
      "text/plain": "None             1070138\nAndroid           464054\niOS               207104\nWindows            88307\nMacintosh          24824\nLinux               5120\n(not set)            364\nChrome OS             83\nBlackBerry            27\nTizen                  7\nSamsung                4\nWindows Phone          4\nFirefox OS             3\nNokia                  3\nName: device_os, dtype: int64"
     },
     "execution_count": 102,
     "metadata": {},
     "output_type": "execute_result"
    }
   ],
   "source": [
    "df.device_os.value_counts(dropna=False)"
   ]
  },
  {
   "cell_type": "code",
   "execution_count": 103,
   "metadata": {
    "pycharm": {
     "name": "#%%\n"
    }
   },
   "outputs": [],
   "source": [
    "df['device_os'] = df['device_os'].fillna('other')"
   ]
  },
  {
   "cell_type": "code",
   "execution_count": 104,
   "metadata": {
    "pycharm": {
     "name": "#%%\n"
    }
   },
   "outputs": [
    {
     "data": {
      "text/plain": "Apple       551088\nSamsung     332194\nXiaomi      288367\n            248500\nHuawei      185853\n             ...  \nVodafone         1\nWexler           1\nKingSing         1\nStar             1\nOpera            1\nName: device_brand, Length: 207, dtype: int64"
     },
     "execution_count": 104,
     "metadata": {},
     "output_type": "execute_result"
    }
   ],
   "source": [
    "df['device_brand'].value_counts(dropna=False)"
   ]
  },
  {
   "cell_type": "code",
   "execution_count": 105,
   "metadata": {
    "pycharm": {
     "name": "#%%\n"
    }
   },
   "outputs": [],
   "source": [
    "df['device_brand'] = df['device_brand'].fillna('other')"
   ]
  },
  {
   "cell_type": "code",
   "execution_count": 106,
   "metadata": {
    "pycharm": {
     "name": "#%%\n"
    }
   },
   "outputs": [
    {
     "data": {
      "text/plain": "0    LTuZkdKfxRGVceoWkVyg\nName: utm_campaign, dtype: object"
     },
     "execution_count": 106,
     "metadata": {},
     "output_type": "execute_result"
    }
   ],
   "source": [
    "df['utm_campaign'].mode()"
   ]
  },
  {
   "cell_type": "code",
   "execution_count": 107,
   "metadata": {
    "pycharm": {
     "name": "#%%\n"
    }
   },
   "outputs": [
    {
     "data": {
      "text/plain": "0    ZpYIoDJMcFzVoPFsHGJL\nName: utm_source, dtype: object"
     },
     "execution_count": 107,
     "metadata": {},
     "output_type": "execute_result"
    }
   ],
   "source": [
    "df['utm_source'].mode()"
   ]
  },
  {
   "cell_type": "code",
   "execution_count": 108,
   "metadata": {
    "pycharm": {
     "name": "#%%\n"
    }
   },
   "outputs": [
    {
     "data": {
      "text/plain": "0    JNHcPlZPxEMWDnRiyoBf\nName: utm_adcontent, dtype: object"
     },
     "execution_count": 108,
     "metadata": {},
     "output_type": "execute_result"
    }
   ],
   "source": [
    "df['utm_adcontent'].mode()"
   ]
  },
  {
   "cell_type": "code",
   "execution_count": 109,
   "metadata": {
    "pycharm": {
     "name": "#%%\n"
    }
   },
   "outputs": [],
   "source": [
    "df['utm_campaign'] = df['utm_campaign'].fillna(df['utm_campaign'].mode())\n",
    "df['utm_source'] = df['utm_source'].fillna(df['utm_source'].mode())\n",
    "df['utm_adcontent'] = df['utm_adcontent'].fillna(df['utm_adcontent'].mode())"
   ]
  },
  {
   "cell_type": "markdown",
   "metadata": {
    "pycharm": {
     "name": "#%% md\n"
    }
   },
   "source": [
    "### Приведение типов данных"
   ]
  },
  {
   "cell_type": "code",
   "execution_count": 110,
   "metadata": {
    "pycharm": {
     "name": "#%%\n"
    }
   },
   "outputs": [
    {
     "data": {
      "text/plain": "session_id                  object\nclient_id                   object\nvisit_date                  object\nvisit_time                  object\nvisit_number                 int64\nutm_source                  object\nutm_medium                  object\nutm_campaign                object\nutm_adcontent               object\ndevice_category             object\ndevice_os                   object\ndevice_brand                object\ndevice_screen_resolution    object\ndevice_browser              object\ngeo_country                 object\ngeo_city                    object\ntarget                       int64\ndtype: object"
     },
     "execution_count": 110,
     "metadata": {},
     "output_type": "execute_result"
    }
   ],
   "source": [
    "df.dtypes"
   ]
  },
  {
   "cell_type": "code",
   "execution_count": 111,
   "metadata": {
    "pycharm": {
     "name": "#%%\n"
    }
   },
   "outputs": [
    {
     "data": {
      "text/plain": "                                  session_id              client_id  \\\n0  9055434745589932991.1637753792.1637753792  2108382700.1637753791   \n1   905544597018549464.1636867290.1636867290   210838531.1636867288   \n2  9055446045651783499.1640648526.1640648526  2108385331.1640648523   \n3  9055447046360770272.1622255328.1622255328  2108385564.1622255328   \n4  9055447046360770272.1622255345.1622255345  2108385564.1622255328   \n\n   visit_date visit_time  visit_number            utm_source utm_medium  \\\n0  2021-11-24   14:36:32             1  ZpYIoDJMcFzVoPFsHGJL     banner   \n1  2021-11-14   08:21:30             1  MvfHsxITijuriZxsqZqt        cpm   \n2  2021-12-28   02:42:06             1  ZpYIoDJMcFzVoPFsHGJL     banner   \n3  2021-05-29   05:00:00             1  kjsLglQLzykiRbcDiGcD        cpc   \n4  2021-05-29   05:00:00             2  kjsLglQLzykiRbcDiGcD        cpc   \n\n           utm_campaign         utm_adcontent device_category device_os  \\\n0  LEoPHuyFvzoNfnzGgfcd  vCIpmpaGBnIQhyYNkXqp          mobile   Android   \n1  FTjNLDyTrXaWYgZymFkV  xhoenQgDQsgfEPYNPwKO          mobile   Android   \n2  LEoPHuyFvzoNfnzGgfcd  vCIpmpaGBnIQhyYNkXqp          mobile   Android   \n3                   NaN  NOBKLgtuvqYWkXQHeYWM          mobile     other   \n4                   NaN                   NaN          mobile     other   \n\n  device_brand device_screen_resolution    device_browser geo_country  \\\n0       Huawei                  360x720            Chrome      Russia   \n1      Samsung                  385x854  Samsung Internet      Russia   \n2       Huawei                  360x720            Chrome      Russia   \n3       Xiaomi                  393x786            Chrome      Russia   \n4       Xiaomi                  393x786            Chrome      Russia   \n\n      geo_city  target  \n0     Zlatoust       1  \n1       Moscow       1  \n2  Krasnoyarsk       1  \n3       Moscow       1  \n4       Moscow       1  ",
      "text/html": "<div>\n<style scoped>\n    .dataframe tbody tr th:only-of-type {\n        vertical-align: middle;\n    }\n\n    .dataframe tbody tr th {\n        vertical-align: top;\n    }\n\n    .dataframe thead th {\n        text-align: right;\n    }\n</style>\n<table border=\"1\" class=\"dataframe\">\n  <thead>\n    <tr style=\"text-align: right;\">\n      <th></th>\n      <th>session_id</th>\n      <th>client_id</th>\n      <th>visit_date</th>\n      <th>visit_time</th>\n      <th>visit_number</th>\n      <th>utm_source</th>\n      <th>utm_medium</th>\n      <th>utm_campaign</th>\n      <th>utm_adcontent</th>\n      <th>device_category</th>\n      <th>device_os</th>\n      <th>device_brand</th>\n      <th>device_screen_resolution</th>\n      <th>device_browser</th>\n      <th>geo_country</th>\n      <th>geo_city</th>\n      <th>target</th>\n    </tr>\n  </thead>\n  <tbody>\n    <tr>\n      <th>0</th>\n      <td>9055434745589932991.1637753792.1637753792</td>\n      <td>2108382700.1637753791</td>\n      <td>2021-11-24</td>\n      <td>14:36:32</td>\n      <td>1</td>\n      <td>ZpYIoDJMcFzVoPFsHGJL</td>\n      <td>banner</td>\n      <td>LEoPHuyFvzoNfnzGgfcd</td>\n      <td>vCIpmpaGBnIQhyYNkXqp</td>\n      <td>mobile</td>\n      <td>Android</td>\n      <td>Huawei</td>\n      <td>360x720</td>\n      <td>Chrome</td>\n      <td>Russia</td>\n      <td>Zlatoust</td>\n      <td>1</td>\n    </tr>\n    <tr>\n      <th>1</th>\n      <td>905544597018549464.1636867290.1636867290</td>\n      <td>210838531.1636867288</td>\n      <td>2021-11-14</td>\n      <td>08:21:30</td>\n      <td>1</td>\n      <td>MvfHsxITijuriZxsqZqt</td>\n      <td>cpm</td>\n      <td>FTjNLDyTrXaWYgZymFkV</td>\n      <td>xhoenQgDQsgfEPYNPwKO</td>\n      <td>mobile</td>\n      <td>Android</td>\n      <td>Samsung</td>\n      <td>385x854</td>\n      <td>Samsung Internet</td>\n      <td>Russia</td>\n      <td>Moscow</td>\n      <td>1</td>\n    </tr>\n    <tr>\n      <th>2</th>\n      <td>9055446045651783499.1640648526.1640648526</td>\n      <td>2108385331.1640648523</td>\n      <td>2021-12-28</td>\n      <td>02:42:06</td>\n      <td>1</td>\n      <td>ZpYIoDJMcFzVoPFsHGJL</td>\n      <td>banner</td>\n      <td>LEoPHuyFvzoNfnzGgfcd</td>\n      <td>vCIpmpaGBnIQhyYNkXqp</td>\n      <td>mobile</td>\n      <td>Android</td>\n      <td>Huawei</td>\n      <td>360x720</td>\n      <td>Chrome</td>\n      <td>Russia</td>\n      <td>Krasnoyarsk</td>\n      <td>1</td>\n    </tr>\n    <tr>\n      <th>3</th>\n      <td>9055447046360770272.1622255328.1622255328</td>\n      <td>2108385564.1622255328</td>\n      <td>2021-05-29</td>\n      <td>05:00:00</td>\n      <td>1</td>\n      <td>kjsLglQLzykiRbcDiGcD</td>\n      <td>cpc</td>\n      <td>NaN</td>\n      <td>NOBKLgtuvqYWkXQHeYWM</td>\n      <td>mobile</td>\n      <td>other</td>\n      <td>Xiaomi</td>\n      <td>393x786</td>\n      <td>Chrome</td>\n      <td>Russia</td>\n      <td>Moscow</td>\n      <td>1</td>\n    </tr>\n    <tr>\n      <th>4</th>\n      <td>9055447046360770272.1622255345.1622255345</td>\n      <td>2108385564.1622255328</td>\n      <td>2021-05-29</td>\n      <td>05:00:00</td>\n      <td>2</td>\n      <td>kjsLglQLzykiRbcDiGcD</td>\n      <td>cpc</td>\n      <td>NaN</td>\n      <td>NaN</td>\n      <td>mobile</td>\n      <td>other</td>\n      <td>Xiaomi</td>\n      <td>393x786</td>\n      <td>Chrome</td>\n      <td>Russia</td>\n      <td>Moscow</td>\n      <td>1</td>\n    </tr>\n  </tbody>\n</table>\n</div>"
     },
     "execution_count": 111,
     "metadata": {},
     "output_type": "execute_result"
    }
   ],
   "source": [
    "df.head()"
   ]
  },
  {
   "cell_type": "code",
   "execution_count": 112,
   "metadata": {
    "pycharm": {
     "name": "#%%\n"
    }
   },
   "outputs": [],
   "source": [
    "df['visit_date'] = pd.to_datetime(df['visit_date'])"
   ]
  },
  {
   "cell_type": "markdown",
   "metadata": {
    "pycharm": {
     "name": "#%% md\n"
    }
   },
   "source": [
    "### Обработка выбросов"
   ]
  },
  {
   "cell_type": "code",
   "execution_count": 113,
   "metadata": {
    "pycharm": {
     "name": "#%%\n"
    }
   },
   "outputs": [],
   "source": [
    "def calculate_outliers(data):\n",
    "    q25 = data.quantile(0.25)\n",
    "    q75 = data.quantile(0.75)\n",
    "    iqr = q75 - q25\n",
    "    boundaries = (q25 - 1.5 * iqr, q75 + 1.5 * iqr)\n",
    "    \n",
    "    return boundaries"
   ]
  },
  {
   "cell_type": "code",
   "execution_count": 114,
   "metadata": {
    "pycharm": {
     "name": "#%%\n"
    }
   },
   "outputs": [
    {
     "data": {
      "text/plain": "count    1.860042e+06\nmean     2.712804e+00\nstd      1.182907e+01\nmin      1.000000e+00\n25%      1.000000e+00\n50%      1.000000e+00\n75%      2.000000e+00\nmax      5.640000e+02\nName: visit_number, dtype: float64"
     },
     "execution_count": 114,
     "metadata": {},
     "output_type": "execute_result"
    }
   ],
   "source": [
    "df.visit_number.describe()"
   ]
  },
  {
   "cell_type": "code",
   "execution_count": 115,
   "metadata": {
    "pycharm": {
     "name": "#%%\n"
    }
   },
   "outputs": [
    {
     "data": {
      "text/plain": "4"
     },
     "execution_count": 115,
     "metadata": {},
     "output_type": "execute_result"
    }
   ],
   "source": [
    "boundaries = calculate_outliers(df['visit_number'])\n",
    "b_max = boundaries[1]\n",
    "round(b_max)"
   ]
  },
  {
   "cell_type": "code",
   "execution_count": 116,
   "metadata": {
    "pycharm": {
     "name": "#%%\n"
    }
   },
   "outputs": [],
   "source": [
    "df.loc[df['visit_number'] > b_max, 'visit_number'] = round(b_max)"
   ]
  },
  {
   "cell_type": "code",
   "execution_count": 117,
   "metadata": {
    "pycharm": {
     "name": "#%%\n"
    }
   },
   "outputs": [
    {
     "data": {
      "text/plain": "count    1.860042e+06\nmean     1.483161e+00\nstd      9.356721e-01\nmin      1.000000e+00\n25%      1.000000e+00\n50%      1.000000e+00\n75%      2.000000e+00\nmax      4.000000e+00\nName: visit_number, dtype: float64"
     },
     "execution_count": 117,
     "metadata": {},
     "output_type": "execute_result"
    }
   ],
   "source": [
    "df.visit_number.describe()"
   ]
  },
  {
   "cell_type": "markdown",
   "metadata": {
    "pycharm": {
     "name": "#%% md\n"
    }
   },
   "source": [
    "### Объединение редких значений"
   ]
  },
  {
   "cell_type": "code",
   "execution_count": 118,
   "metadata": {
    "pycharm": {
     "name": "#%%\n"
    }
   },
   "outputs": [
    {
     "data": {
      "text/plain": "count     1860042\nunique       2548\ntop        Moscow\nfreq       805329\nName: geo_city, dtype: object"
     },
     "execution_count": 118,
     "metadata": {},
     "output_type": "execute_result"
    }
   ],
   "source": [
    "df.geo_city.describe()"
   ]
  },
  {
   "cell_type": "code",
   "execution_count": 119,
   "metadata": {
    "pycharm": {
     "name": "#%%\n"
    }
   },
   "outputs": [],
   "source": [
    "geo_city_vc = df.geo_city.value_counts()"
   ]
  },
  {
   "cell_type": "code",
   "execution_count": 120,
   "metadata": {
    "pycharm": {
     "name": "#%%\n"
    }
   },
   "outputs": [],
   "source": [
    "unpopular_city = [k for k, v in geo_city_vc.items() if v <= geo_city_vc.mean()]"
   ]
  },
  {
   "cell_type": "code",
   "execution_count": 121,
   "metadata": {
    "pycharm": {
     "name": "#%%\n"
    }
   },
   "outputs": [],
   "source": [
    "pd.DataFrame(unpopular_city).to_csv('data/unpopular_city.csv', index=False)"
   ]
  },
  {
   "cell_type": "code",
   "execution_count": 122,
   "metadata": {
    "pycharm": {
     "name": "#%%\n"
    }
   },
   "outputs": [],
   "source": [
    "del geo_city_vc"
   ]
  },
  {
   "cell_type": "code",
   "execution_count": 123,
   "metadata": {
    "pycharm": {
     "name": "#%%\n"
    }
   },
   "outputs": [],
   "source": [
    "df.loc[df['geo_city'].isin(unpopular_city), 'geo_city'] = 'other'"
   ]
  },
  {
   "cell_type": "code",
   "execution_count": 124,
   "metadata": {
    "pycharm": {
     "name": "#%%\n"
    }
   },
   "outputs": [],
   "source": [
    "del unpopular_city"
   ]
  },
  {
   "cell_type": "markdown",
   "metadata": {
    "pycharm": {
     "name": "#%% md\n"
    }
   },
   "source": [
    "## Feature engineering"
   ]
  },
  {
   "cell_type": "code",
   "execution_count": 125,
   "metadata": {
    "pycharm": {
     "name": "#%%\n"
    }
   },
   "outputs": [
    {
     "data": {
      "text/plain": "                                       session_id              client_id  \\\ncount                                     1860042                1860042   \nunique                                    1860042                1391719   \ntop     9055434745589932991.1637753792.1637753792  1750498477.1629450062   \nfreq                                            1                    462   \nmean                                          NaN                    NaN   \nmin                                           NaN                    NaN   \n25%                                           NaN                    NaN   \n50%                                           NaN                    NaN   \n75%                                           NaN                    NaN   \nmax                                           NaN                    NaN   \nstd                                           NaN                    NaN   \n\n                           visit_date visit_time  visit_number  \\\ncount                         1860042    1860042  1.860042e+06   \nunique                            NaN      85318           NaN   \ntop                               NaN   12:00:00           NaN   \nfreq                              NaN      61067           NaN   \nmean    2021-09-26 11:45:55.389394176        NaN  1.483161e+00   \nmin               2021-05-19 00:00:00        NaN  1.000000e+00   \n25%               2021-08-02 00:00:00        NaN  1.000000e+00   \n50%               2021-10-06 00:00:00        NaN  1.000000e+00   \n75%               2021-11-23 00:00:00        NaN  2.000000e+00   \nmax               2021-12-31 00:00:00        NaN  4.000000e+00   \nstd                               NaN        NaN  9.356721e-01   \n\n                  utm_source utm_medium          utm_campaign  \\\ncount                1859945    1860042               1640439   \nunique                   293         56                   412   \ntop     ZpYIoDJMcFzVoPFsHGJL     banner  LTuZkdKfxRGVceoWkVyg   \nfreq                  578290     552272                463481   \nmean                     NaN        NaN                   NaN   \nmin                      NaN        NaN                   NaN   \n25%                      NaN        NaN                   NaN   \n50%                      NaN        NaN                   NaN   \n75%                      NaN        NaN                   NaN   \nmax                      NaN        NaN                   NaN   \nstd                      NaN        NaN                   NaN   \n\n               utm_adcontent device_category device_os device_brand  \\\ncount                1524427         1860042   1860042      1860042   \nunique                   286               3        14          207   \ntop     JNHcPlZPxEMWDnRiyoBf          mobile     other        Apple   \nfreq                 1006599         1474871   1070138       551088   \nmean                     NaN             NaN       NaN          NaN   \nmin                      NaN             NaN       NaN          NaN   \n25%                      NaN             NaN       NaN          NaN   \n50%                      NaN             NaN       NaN          NaN   \n75%                      NaN             NaN       NaN          NaN   \nmax                      NaN             NaN       NaN          NaN   \nstd                      NaN             NaN       NaN          NaN   \n\n       device_screen_resolution device_browser geo_country geo_city  \\\ncount                   1860042        1860042     1860042  1860042   \nunique                     5039             57         166      145   \ntop                     414x896         Chrome      Russia   Moscow   \nfreq                     169090        1013436     1800565   805329   \nmean                        NaN            NaN         NaN      NaN   \nmin                         NaN            NaN         NaN      NaN   \n25%                         NaN            NaN         NaN      NaN   \n50%                         NaN            NaN         NaN      NaN   \n75%                         NaN            NaN         NaN      NaN   \nmax                         NaN            NaN         NaN      NaN   \nstd                         NaN            NaN         NaN      NaN   \n\n              target  \ncount   1.860042e+06  \nunique           NaN  \ntop              NaN  \nfreq             NaN  \nmean    9.313048e-01  \nmin     0.000000e+00  \n25%     1.000000e+00  \n50%     1.000000e+00  \n75%     1.000000e+00  \nmax     1.000000e+00  \nstd     2.529352e-01  ",
      "text/html": "<div>\n<style scoped>\n    .dataframe tbody tr th:only-of-type {\n        vertical-align: middle;\n    }\n\n    .dataframe tbody tr th {\n        vertical-align: top;\n    }\n\n    .dataframe thead th {\n        text-align: right;\n    }\n</style>\n<table border=\"1\" class=\"dataframe\">\n  <thead>\n    <tr style=\"text-align: right;\">\n      <th></th>\n      <th>session_id</th>\n      <th>client_id</th>\n      <th>visit_date</th>\n      <th>visit_time</th>\n      <th>visit_number</th>\n      <th>utm_source</th>\n      <th>utm_medium</th>\n      <th>utm_campaign</th>\n      <th>utm_adcontent</th>\n      <th>device_category</th>\n      <th>device_os</th>\n      <th>device_brand</th>\n      <th>device_screen_resolution</th>\n      <th>device_browser</th>\n      <th>geo_country</th>\n      <th>geo_city</th>\n      <th>target</th>\n    </tr>\n  </thead>\n  <tbody>\n    <tr>\n      <th>count</th>\n      <td>1860042</td>\n      <td>1860042</td>\n      <td>1860042</td>\n      <td>1860042</td>\n      <td>1.860042e+06</td>\n      <td>1859945</td>\n      <td>1860042</td>\n      <td>1640439</td>\n      <td>1524427</td>\n      <td>1860042</td>\n      <td>1860042</td>\n      <td>1860042</td>\n      <td>1860042</td>\n      <td>1860042</td>\n      <td>1860042</td>\n      <td>1860042</td>\n      <td>1.860042e+06</td>\n    </tr>\n    <tr>\n      <th>unique</th>\n      <td>1860042</td>\n      <td>1391719</td>\n      <td>NaN</td>\n      <td>85318</td>\n      <td>NaN</td>\n      <td>293</td>\n      <td>56</td>\n      <td>412</td>\n      <td>286</td>\n      <td>3</td>\n      <td>14</td>\n      <td>207</td>\n      <td>5039</td>\n      <td>57</td>\n      <td>166</td>\n      <td>145</td>\n      <td>NaN</td>\n    </tr>\n    <tr>\n      <th>top</th>\n      <td>9055434745589932991.1637753792.1637753792</td>\n      <td>1750498477.1629450062</td>\n      <td>NaN</td>\n      <td>12:00:00</td>\n      <td>NaN</td>\n      <td>ZpYIoDJMcFzVoPFsHGJL</td>\n      <td>banner</td>\n      <td>LTuZkdKfxRGVceoWkVyg</td>\n      <td>JNHcPlZPxEMWDnRiyoBf</td>\n      <td>mobile</td>\n      <td>other</td>\n      <td>Apple</td>\n      <td>414x896</td>\n      <td>Chrome</td>\n      <td>Russia</td>\n      <td>Moscow</td>\n      <td>NaN</td>\n    </tr>\n    <tr>\n      <th>freq</th>\n      <td>1</td>\n      <td>462</td>\n      <td>NaN</td>\n      <td>61067</td>\n      <td>NaN</td>\n      <td>578290</td>\n      <td>552272</td>\n      <td>463481</td>\n      <td>1006599</td>\n      <td>1474871</td>\n      <td>1070138</td>\n      <td>551088</td>\n      <td>169090</td>\n      <td>1013436</td>\n      <td>1800565</td>\n      <td>805329</td>\n      <td>NaN</td>\n    </tr>\n    <tr>\n      <th>mean</th>\n      <td>NaN</td>\n      <td>NaN</td>\n      <td>2021-09-26 11:45:55.389394176</td>\n      <td>NaN</td>\n      <td>1.483161e+00</td>\n      <td>NaN</td>\n      <td>NaN</td>\n      <td>NaN</td>\n      <td>NaN</td>\n      <td>NaN</td>\n      <td>NaN</td>\n      <td>NaN</td>\n      <td>NaN</td>\n      <td>NaN</td>\n      <td>NaN</td>\n      <td>NaN</td>\n      <td>9.313048e-01</td>\n    </tr>\n    <tr>\n      <th>min</th>\n      <td>NaN</td>\n      <td>NaN</td>\n      <td>2021-05-19 00:00:00</td>\n      <td>NaN</td>\n      <td>1.000000e+00</td>\n      <td>NaN</td>\n      <td>NaN</td>\n      <td>NaN</td>\n      <td>NaN</td>\n      <td>NaN</td>\n      <td>NaN</td>\n      <td>NaN</td>\n      <td>NaN</td>\n      <td>NaN</td>\n      <td>NaN</td>\n      <td>NaN</td>\n      <td>0.000000e+00</td>\n    </tr>\n    <tr>\n      <th>25%</th>\n      <td>NaN</td>\n      <td>NaN</td>\n      <td>2021-08-02 00:00:00</td>\n      <td>NaN</td>\n      <td>1.000000e+00</td>\n      <td>NaN</td>\n      <td>NaN</td>\n      <td>NaN</td>\n      <td>NaN</td>\n      <td>NaN</td>\n      <td>NaN</td>\n      <td>NaN</td>\n      <td>NaN</td>\n      <td>NaN</td>\n      <td>NaN</td>\n      <td>NaN</td>\n      <td>1.000000e+00</td>\n    </tr>\n    <tr>\n      <th>50%</th>\n      <td>NaN</td>\n      <td>NaN</td>\n      <td>2021-10-06 00:00:00</td>\n      <td>NaN</td>\n      <td>1.000000e+00</td>\n      <td>NaN</td>\n      <td>NaN</td>\n      <td>NaN</td>\n      <td>NaN</td>\n      <td>NaN</td>\n      <td>NaN</td>\n      <td>NaN</td>\n      <td>NaN</td>\n      <td>NaN</td>\n      <td>NaN</td>\n      <td>NaN</td>\n      <td>1.000000e+00</td>\n    </tr>\n    <tr>\n      <th>75%</th>\n      <td>NaN</td>\n      <td>NaN</td>\n      <td>2021-11-23 00:00:00</td>\n      <td>NaN</td>\n      <td>2.000000e+00</td>\n      <td>NaN</td>\n      <td>NaN</td>\n      <td>NaN</td>\n      <td>NaN</td>\n      <td>NaN</td>\n      <td>NaN</td>\n      <td>NaN</td>\n      <td>NaN</td>\n      <td>NaN</td>\n      <td>NaN</td>\n      <td>NaN</td>\n      <td>1.000000e+00</td>\n    </tr>\n    <tr>\n      <th>max</th>\n      <td>NaN</td>\n      <td>NaN</td>\n      <td>2021-12-31 00:00:00</td>\n      <td>NaN</td>\n      <td>4.000000e+00</td>\n      <td>NaN</td>\n      <td>NaN</td>\n      <td>NaN</td>\n      <td>NaN</td>\n      <td>NaN</td>\n      <td>NaN</td>\n      <td>NaN</td>\n      <td>NaN</td>\n      <td>NaN</td>\n      <td>NaN</td>\n      <td>NaN</td>\n      <td>1.000000e+00</td>\n    </tr>\n    <tr>\n      <th>std</th>\n      <td>NaN</td>\n      <td>NaN</td>\n      <td>NaN</td>\n      <td>NaN</td>\n      <td>9.356721e-01</td>\n      <td>NaN</td>\n      <td>NaN</td>\n      <td>NaN</td>\n      <td>NaN</td>\n      <td>NaN</td>\n      <td>NaN</td>\n      <td>NaN</td>\n      <td>NaN</td>\n      <td>NaN</td>\n      <td>NaN</td>\n      <td>NaN</td>\n      <td>2.529352e-01</td>\n    </tr>\n  </tbody>\n</table>\n</div>"
     },
     "execution_count": 125,
     "metadata": {},
     "output_type": "execute_result"
    }
   ],
   "source": [
    "df.describe(include='all', datetime_is_numeric=True)"
   ]
  },
  {
   "cell_type": "markdown",
   "metadata": {
    "pycharm": {
     "name": "#%% md\n"
    }
   },
   "source": [
    "### Органический трафик"
   ]
  },
  {
   "cell_type": "code",
   "execution_count": 126,
   "metadata": {
    "pycharm": {
     "name": "#%%\n"
    }
   },
   "outputs": [
    {
     "data": {
      "text/plain": "banner               552272\ncpc                  434794\n(none)               300575\ncpm                  242083\nreferral             152050\norganic               63034\nemail                 29240\npush                  28035\nstories               10582\ncpv                    8022\nblogger_channel        8015\nsmartbanner            6794\nblogger_stories        4312\ncpa                    4279\ntg                     4011\napp                    2836\npost                   2326\nsmm                    1985\noutlook                1332\nclicks                  934\nblogger_header          771\n(not set)               480\ninfo_text               343\nsms                     239\nlanding                 134\npartner                  97\nfb_smm                   66\nvk_smm                   65\nlink                     57\ncbaafe                   47\nCPM                      40\nyandex_cpc               36\nok_smm                   28\nstatic                   22\ngoogle_cpc               20\narticle                  17\nnkp                      14\nweb_polka                11\nsocial                    9\nmedium                    8\nmain_polka                4\ncatalogue                 4\nusers_msk                 3\nreach                     2\npromo_sber                2\nlinktest                  2\npromo_sbol                1\nSbol_catalog              1\ndesktop                   1\ndom_click                 1\ntablet                    1\nsber_app                  1\nlast                      1\nqr                        1\nqrcodevideo               1\nlanding_interests         1\nName: utm_medium, dtype: int64"
     },
     "execution_count": 126,
     "metadata": {},
     "output_type": "execute_result"
    }
   ],
   "source": [
    "df.utm_medium.value_counts(dropna=False)"
   ]
  },
  {
   "cell_type": "code",
   "execution_count": 127,
   "metadata": {
    "pycharm": {
     "name": "#%%\n"
    }
   },
   "outputs": [],
   "source": [
    "df['is_organic'] = df.utm_medium.isin(['organic', 'referral', '(none)']).apply(lambda x: 1 if x else 0)"
   ]
  },
  {
   "cell_type": "code",
   "execution_count": 128,
   "metadata": {
    "pycharm": {
     "name": "#%%\n"
    }
   },
   "outputs": [
    {
     "data": {
      "text/plain": "0    1344383\n1     515659\nName: is_organic, dtype: int64"
     },
     "execution_count": 128,
     "metadata": {},
     "output_type": "execute_result"
    }
   ],
   "source": [
    "df['is_organic'].value_counts(dropna=False)"
   ]
  },
  {
   "cell_type": "markdown",
   "metadata": {
    "pycharm": {
     "name": "#%% md\n"
    }
   },
   "source": [
    "### Реклама в социальных сетях"
   ]
  },
  {
   "cell_type": "code",
   "execution_count": 129,
   "metadata": {
    "pycharm": {
     "name": "#%%\n"
    }
   },
   "outputs": [],
   "source": [
    "advertising_tags = ['QxAxdyPLuQMEcrdZWdWb', 'MvfHsxITijuriZxsqZqt', 'ISrKoXQCxqqYvAZICvjs',\n",
    "                    'IZEXUFLARCUMynmHNBGo', 'PlbkrSYoHuZBWfYjYnfw',\n",
    "                    'gVRrcxiDQubJiljoTbGm']\n",
    "\n",
    "df['is_advertising'] = df['utm_source'].isin(advertising_tags).apply(lambda x: 1 if x else 0)"
   ]
  },
  {
   "cell_type": "code",
   "execution_count": 130,
   "metadata": {
    "pycharm": {
     "name": "#%%\n"
    }
   },
   "outputs": [
    {
     "data": {
      "text/plain": "0    1585815\n1     274227\nName: is_advertising, dtype: int64"
     },
     "execution_count": 130,
     "metadata": {},
     "output_type": "execute_result"
    }
   ],
   "source": [
    "df['is_advertising'].value_counts()"
   ]
  },
  {
   "cell_type": "markdown",
   "metadata": {
    "pycharm": {
     "name": "#%% md\n"
    }
   },
   "source": [
    "### День недели"
   ]
  },
  {
   "cell_type": "code",
   "execution_count": 131,
   "metadata": {
    "pycharm": {
     "name": "#%%\n"
    }
   },
   "outputs": [],
   "source": [
    "df['dayofweek'] = df['visit_date'].dt.dayofweek.astype('str')"
   ]
  },
  {
   "cell_type": "code",
   "execution_count": 132,
   "metadata": {
    "pycharm": {
     "name": "#%%\n"
    }
   },
   "outputs": [
    {
     "data": {
      "text/plain": "1    305130\n0    300906\n3    274462\n4    268819\n2    258616\n5    226397\n6    225712\nName: dayofweek, dtype: int64"
     },
     "execution_count": 132,
     "metadata": {},
     "output_type": "execute_result"
    }
   ],
   "source": [
    "df['dayofweek'].value_counts()"
   ]
  },
  {
   "cell_type": "markdown",
   "metadata": {
    "pycharm": {
     "name": "#%% md\n"
    }
   },
   "source": [
    "### Час посещения "
   ]
  },
  {
   "cell_type": "code",
   "execution_count": 133,
   "metadata": {
    "pycharm": {
     "name": "#%%\n"
    }
   },
   "outputs": [],
   "source": [
    "df['visit_time_hour'] = df['visit_time'].apply(lambda x: str(x.hour))"
   ]
  },
  {
   "cell_type": "code",
   "execution_count": 134,
   "metadata": {
    "pycharm": {
     "name": "#%%\n"
    }
   },
   "outputs": [
    {
     "data": {
      "text/plain": "14    111487\n16    105241\n15    103854\n18    102701\n13    102477\n12    102071\n11    101266\n17    101086\n10    100849\n19     99184\n20     98731\n21     97612\n22     93473\n9      91860\n23     84643\n8      72015\n0      66202\n7      54894\n1      40080\n6      36440\n2      27328\n5      25292\n3      21036\n4      20220\nName: visit_time_hour, dtype: int64"
     },
     "execution_count": 134,
     "metadata": {},
     "output_type": "execute_result"
    }
   ],
   "source": [
    "df['visit_time_hour'].value_counts()"
   ]
  },
  {
   "cell_type": "markdown",
   "metadata": {
    "pycharm": {
     "name": "#%% md\n"
    }
   },
   "source": [
    "### Разрешение экрана по осям"
   ]
  },
  {
   "cell_type": "code",
   "execution_count": 135,
   "metadata": {
    "pycharm": {
     "name": "#%%\n"
    }
   },
   "outputs": [
    {
     "data": {
      "text/plain": "414x896      169090\n1920x1080    125768\n375x812      117944\n393x851      115454\n375x667       93341\n              ...  \n2262x1553         1\n1097x617          1\n421x847           1\n1791x1007         1\n464x1123          1\nName: device_screen_resolution, Length: 5039, dtype: int64"
     },
     "execution_count": 135,
     "metadata": {},
     "output_type": "execute_result"
    }
   ],
   "source": [
    "df['device_screen_resolution'].value_counts()"
   ]
  },
  {
   "cell_type": "code",
   "execution_count": 136,
   "metadata": {
    "pycharm": {
     "name": "#%%\n"
    }
   },
   "outputs": [
    {
     "data": {
      "text/plain": "'414x896'"
     },
     "execution_count": 136,
     "metadata": {},
     "output_type": "execute_result"
    }
   ],
   "source": [
    "screen_mode = df['device_screen_resolution'].mode()[0]\n",
    "screen_mode"
   ]
  },
  {
   "cell_type": "code",
   "execution_count": 137,
   "metadata": {
    "pycharm": {
     "name": "#%%\n"
    }
   },
   "outputs": [],
   "source": [
    "df.loc[df['device_screen_resolution'] == '(not set)', 'device_screen_resolution'] = screen_mode\n",
    "df['device_screen_resolution_x'] = df['device_screen_resolution'].apply(lambda x: int(x.split('x')[0]))\n",
    "df['device_screen_resolution_y'] = df['device_screen_resolution'].apply(lambda x: int(x.split('x')[1]))"
   ]
  },
  {
   "cell_type": "code",
   "execution_count": 138,
   "metadata": {
    "pycharm": {
     "name": "#%%\n"
    }
   },
   "outputs": [
    {
     "data": {
      "text/plain": "count    1.860042e+06\nmean     6.567049e+02\nstd      5.531441e+02\nmin      0.000000e+00\n25%      3.600000e+02\n50%      3.930000e+02\n75%      4.280000e+02\nmax      5.924000e+03\nName: device_screen_resolution_x, dtype: float64"
     },
     "execution_count": 138,
     "metadata": {},
     "output_type": "execute_result"
    }
   ],
   "source": [
    "df['device_screen_resolution_x'].describe()"
   ]
  },
  {
   "cell_type": "code",
   "execution_count": 139,
   "metadata": {
    "pycharm": {
     "name": "#%%\n"
    }
   },
   "outputs": [
    {
     "data": {
      "text/plain": "count    1.860042e+06\nmean     8.408741e+02\nstd      1.939633e+02\nmin      0.000000e+00\n25%      7.600000e+02\n50%      8.440000e+02\n75%      8.960000e+02\nmax      2.000000e+04\nName: device_screen_resolution_y, dtype: float64"
     },
     "execution_count": 139,
     "metadata": {},
     "output_type": "execute_result"
    }
   ],
   "source": [
    "df['device_screen_resolution_y'].describe()"
   ]
  },
  {
   "cell_type": "markdown",
   "metadata": {
    "pycharm": {
     "name": "#%% md\n"
    }
   },
   "source": [
    "### Dask DF"
   ]
  },
  {
   "cell_type": "code",
   "execution_count": 140,
   "metadata": {
    "pycharm": {
     "name": "#%%\n"
    }
   },
   "outputs": [],
   "source": [
    "categorical = ['utm_source', 'utm_medium', 'utm_campaign', 'utm_adcontent',\n",
    "              'device_os', 'device_brand', 'device_browser',\n",
    "              'geo_country', 'geo_city',\n",
    "              'dayofweek', 'visit_time_hour']\n",
    "numerical = ['visit_number', 'device_screen_resolution_x', 'device_screen_resolution_y']"
   ]
  },
  {
   "cell_type": "code",
   "execution_count": 141,
   "metadata": {
    "pycharm": {
     "name": "#%%\n"
    }
   },
   "outputs": [],
   "source": [
    "ddf = dd.from_pandas(df[numerical], chunksize=20000)"
   ]
  },
  {
   "cell_type": "markdown",
   "metadata": {
    "pycharm": {
     "name": "#%% md\n"
    }
   },
   "source": [
    "### MinMax"
   ]
  },
  {
   "cell_type": "code",
   "execution_count": 142,
   "metadata": {
    "pycharm": {
     "name": "#%%\n"
    }
   },
   "outputs": [
    {
     "name": "stdout",
     "output_type": "stream",
     "text": [
      "CPU times: user 82.7 ms, sys: 15.4 ms, total: 98.1 ms\n",
      "Wall time: 83.9 ms\n"
     ]
    }
   ],
   "source": [
    "%%time\n",
    "mm_scaler = MinMaxScaler()\n",
    "mm_scaler.fit(ddf[numerical])\n",
    "pickle.dump(mm_scaler, open(\"data/mm_scaler.pickle\", \"wb\"))"
   ]
  },
  {
   "cell_type": "code",
   "execution_count": 143,
   "metadata": {
    "pycharm": {
     "name": "#%%\n"
    }
   },
   "outputs": [],
   "source": [
    "ddf[numerical] = mm_scaler.transform(ddf[numerical])"
   ]
  },
  {
   "cell_type": "markdown",
   "metadata": {
    "pycharm": {
     "name": "#%% md\n"
    }
   },
   "source": [
    "### OHE"
   ]
  },
  {
   "cell_type": "code",
   "execution_count": 144,
   "metadata": {
    "pycharm": {
     "name": "#%%\n"
    }
   },
   "outputs": [],
   "source": [
    "ddf_categorical = dd.from_pandas(df[categorical], chunksize=20000).categorize()"
   ]
  },
  {
   "cell_type": "code",
   "execution_count": 145,
   "metadata": {
    "pycharm": {
     "name": "#%%\n"
    }
   },
   "outputs": [],
   "source": [
    "ohe = OneHotEncoder(sparse=False)\n",
    "ohe.fit(ddf_categorical)\n",
    "pickle.dump(ohe, open(\"data/ohe.pickle\", \"wb\"))\n",
    "ohe_transform = ohe.transform(ddf_categorical)\n",
    "del ddf_categorical"
   ]
  },
  {
   "cell_type": "code",
   "execution_count": 146,
   "metadata": {
    "pycharm": {
     "name": "#%%\n"
    }
   },
   "outputs": [],
   "source": [
    "ddf = dd.merge(ddf, ohe_transform.astype('uint8'))"
   ]
  },
  {
   "cell_type": "code",
   "execution_count": 147,
   "metadata": {
    "pycharm": {
     "name": "#%%\n"
    }
   },
   "outputs": [],
   "source": [
    "del ohe_transform"
   ]
  },
  {
   "cell_type": "markdown",
   "metadata": {
    "pycharm": {
     "name": "#%% md\n"
    }
   },
   "source": [
    "### Перенос целевой переменной"
   ]
  },
  {
   "cell_type": "code",
   "execution_count": 148,
   "metadata": {
    "pycharm": {
     "name": "#%%\n"
    }
   },
   "outputs": [],
   "source": [
    "ddf['target'] = df['target']"
   ]
  },
  {
   "cell_type": "code",
   "execution_count": 149,
   "metadata": {
    "pycharm": {
     "name": "#%%\n"
    }
   },
   "outputs": [],
   "source": [
    "# del df"
   ]
  },
  {
   "cell_type": "code",
   "execution_count": 150,
   "metadata": {
    "pycharm": {
     "name": "#%%\n"
    }
   },
   "outputs": [],
   "source": [
    "df = ddf.compute()"
   ]
  },
  {
   "cell_type": "code",
   "execution_count": 151,
   "metadata": {
    "pycharm": {
     "name": "#%%\n"
    }
   },
   "outputs": [
    {
     "data": {
      "text/plain": "(1860042, 1671)"
     },
     "execution_count": 151,
     "metadata": {},
     "output_type": "execute_result"
    }
   ],
   "source": [
    "df.shape"
   ]
  },
  {
   "cell_type": "markdown",
   "metadata": {
    "pycharm": {
     "name": "#%% md\n"
    }
   },
   "source": [
    "### Кореляция целевой переменной с другими атрибутами"
   ]
  },
  {
   "cell_type": "code",
   "execution_count": 152,
   "metadata": {
    "pycharm": {
     "name": "#%%\n"
    }
   },
   "outputs": [],
   "source": [
    "corrs = df.corrwith(df[\"target\"]).sort_values(key=lambda x: abs(x), ascending=False)"
   ]
  },
  {
   "cell_type": "code",
   "execution_count": 153,
   "outputs": [
    {
     "data": {
      "text/plain": "target                               1.000000e+00\nutm_campaign_TmThBvoCcwkCZZUWACYq   -1.771009e-01\nutm_source_SzZERoLMmrEUEhDaYcyN     -1.304266e-01\nutm_campaign_LEoPHuyFvzoNfnzGgfcd    1.092896e-01\nutm_campaign_SgIUDYUKnyWHVowUOqid   -1.059165e-01\n                                         ...     \ngeo_city_Shchyolkovo                 1.832487e-05\ngeo_country_Estonia                 -7.000858e-06\ngeo_city_Oryol                       3.980800e-06\ngeo_city_Tashkent                    3.429793e-06\ngeo_country_Lithuania               -3.316269e-07\nLength: 1671, dtype: float64"
     },
     "execution_count": 153,
     "metadata": {},
     "output_type": "execute_result"
    }
   ],
   "source": [
    "corrs"
   ],
   "metadata": {
    "collapsed": false,
    "pycharm": {
     "name": "#%%\n"
    }
   }
  },
  {
   "cell_type": "code",
   "execution_count": 154,
   "outputs": [
    {
     "data": {
      "text/plain": "Index(['target', 'utm_campaign_LEoPHuyFvzoNfnzGgfcd',\n       'utm_adcontent_vCIpmpaGBnIQhyYNkXqp', 'device_os_other',\n       'utm_campaign_gecBYcKZCPMcVYdSSzKP', 'geo_country_Russia',\n       'utm_source_ZpYIoDJMcFzVoPFsHGJL', 'utm_medium_banner', 'device_brand_',\n       'utm_adcontent_PkybGvWbaqORmxjNunqZ',\n       ...\n       'geo_city_Vladimir', 'geo_city_Saratov', 'geo_city_Vsevolozhsk',\n       'utm_adcontent_dlwYatgsQMvLsNApVgcw',\n       'utm_adcontent_xLqUcIHZLQWTXrgoxpZY',\n       'utm_campaign_DBLWVjTjVZuzWYWTaDfZ', 'utm_source_azajeHUvPOKkHBvWFbjz',\n       'utm_adcontent_kZBJHrVaekBwnsMoBrtF', 'geo_city_Ulyanovsk',\n       'geo_city_Yoshkar-Ola'],\n      dtype='object', length=386)"
     },
     "execution_count": 154,
     "metadata": {},
     "output_type": "execute_result"
    }
   ],
   "source": [
    "# important_columns = corrs[abs(corrs) >= 0.003].index\n",
    "important_columns = corrs[corrs >= 0.001].index\n",
    "important_columns"
   ],
   "metadata": {
    "collapsed": false,
    "pycharm": {
     "name": "#%%\n"
    }
   }
  },
  {
   "cell_type": "code",
   "execution_count": 155,
   "metadata": {
    "pycharm": {
     "name": "#%%\n"
    }
   },
   "outputs": [],
   "source": [
    "pd.DataFrame(important_columns).to_csv('data/important_columns.csv')"
   ]
  },
  {
   "cell_type": "markdown",
   "metadata": {
    "pycharm": {
     "name": "#%% md\n"
    }
   },
   "source": [
    "### Удаление ненужных колонок"
   ]
  },
  {
   "cell_type": "code",
   "execution_count": 156,
   "metadata": {
    "pycharm": {
     "name": "#%%\n"
    }
   },
   "outputs": [],
   "source": [
    "df = df[important_columns]"
   ]
  },
  {
   "cell_type": "markdown",
   "metadata": {
    "pycharm": {
     "name": "#%% md\n"
    }
   },
   "source": [
    "### Сохранение датафрейма"
   ]
  },
  {
   "cell_type": "code",
   "execution_count": 157,
   "metadata": {
    "pycharm": {
     "name": "#%%\n"
    }
   },
   "outputs": [],
   "source": [
    "df.to_pickle('data/df_prep.pkl')"
   ]
  },
  {
   "cell_type": "markdown",
   "metadata": {
    "pycharm": {
     "name": "#%% md\n"
    }
   },
   "source": [
    "# Modeling"
   ]
  },
  {
   "cell_type": "markdown",
   "metadata": {
    "pycharm": {
     "name": "#%% md\n"
    }
   },
   "source": [
    "### Загрузка датафрейма"
   ]
  },
  {
   "cell_type": "code",
   "execution_count": 158,
   "metadata": {
    "pycharm": {
     "name": "#%%\n"
    }
   },
   "outputs": [],
   "source": [
    "if not_enough_ram:\n",
    "    chunksize = 100000\n",
    "    ddf = dd.from_pandas(pd.read_pickle('data/df_prep.pkl'), chunksize=chunksize)\n",
    "else:\n",
    "    df = pd.read_pickle('data/df_prep.pkl')"
   ]
  },
  {
   "cell_type": "markdown",
   "metadata": {
    "pycharm": {
     "name": "#%% md\n"
    }
   },
   "source": [
    "### train test split"
   ]
  },
  {
   "cell_type": "code",
   "execution_count": 159,
   "metadata": {
    "pycharm": {
     "name": "#%%\n"
    }
   },
   "outputs": [],
   "source": [
    "def part_train_test(ddf, target, train_size, test_size):\n",
    "    part = ddf.partitions[0]\n",
    "    train = part.head(train_size)\n",
    "    test = part.tail(test_size)\n",
    "    for p in range(1, ddf.npartitions):\n",
    "        part = ddf.partitions[p]\n",
    "        train = pd.concat([train, part.head(train_size)])\n",
    "        test = pd.concat([test, part.tail(test_size)])\n",
    "\n",
    "    return tf.convert_to_tensor(train.drop(target, axis=1)), \\\n",
    "           tf.convert_to_tensor(test.drop(target, axis=1)), \\\n",
    "           tf.convert_to_tensor(train[target]), \\\n",
    "           tf.convert_to_tensor(test[target])"
   ]
  },
  {
   "cell_type": "code",
   "execution_count": 160,
   "metadata": {
    "pycharm": {
     "name": "#%%\n"
    }
   },
   "outputs": [],
   "source": [
    "def train_iterator(ddf, target, size):\n",
    "    while True:\n",
    "        for p in range(1, ddf.npartitions):\n",
    "            X_train = ddf.partitions[p].drop(target, axis=1).head(size)\n",
    "            y_train = ddf.partitions[p][target].head(size)\n",
    "            yield tf.convert_to_tensor(X_train), tf.convert_to_tensor(y_train)"
   ]
  },
  {
   "cell_type": "code",
   "execution_count": 161,
   "metadata": {
    "pycharm": {
     "name": "#%%\n"
    }
   },
   "outputs": [
    {
     "name": "stdout",
     "output_type": "stream",
     "text": [
      "CPU times: user 1.69 s, sys: 209 ms, total: 1.9 s\n",
      "Wall time: 1.9 s\n"
     ]
    }
   ],
   "source": [
    "%%time\n",
    "if not_enough_ram:\n",
    "    X_train, X_test, y_train, y_test = part_train_test(ddf, 'target', 0, int(chunksize*0.2))\n",
    "else:\n",
    "    X_train, X_test, y_train, y_test = train_test_split(df.drop('target', axis=1),\n",
    "                                                    df['target'],\n",
    "                                                    test_size=0.3,\n",
    "                                                    shuffle=True,\n",
    "                                                    random_state=42)\n",
    "    del df"
   ]
  },
  {
   "cell_type": "markdown",
   "metadata": {
    "pycharm": {
     "name": "#%% md\n"
    }
   },
   "source": [
    "### Неудачные модели"
   ]
  },
  {
   "cell_type": "code",
   "execution_count": 162,
   "metadata": {
    "pycharm": {
     "name": "#%%\n"
    }
   },
   "outputs": [],
   "source": [
    "# model = LogisticRegression(max_iter=10,\n",
    "#                            multi_class='multinomial',\n",
    "#                            solver='newton',\n",
    "#                            penalty='none',\n",
    "#                            solver_kwargs={\"normalize\":False},\n",
    "#                            random_state=42)\n",
    "#\n",
    "# model = xgb.XGBClassifier(random_state=42,\n",
    "#                           n_estimators=100,\n",
    "#                           learning_rate=0.1,\n",
    "#                           max_depth=5,\n",
    "#                           eval_metric='error')"
   ]
  },
  {
   "cell_type": "markdown",
   "metadata": {
    "pycharm": {
     "name": "#%% md\n"
    }
   },
   "source": [
    "## Keras"
   ]
  },
  {
   "cell_type": "code",
   "execution_count": 163,
   "metadata": {
    "pycharm": {
     "name": "#%%\n"
    }
   },
   "outputs": [],
   "source": [
    "def buildmodel():\n",
    "    model = Sequential()\n",
    "    model.add(Dense(X_train.shape[1], input_dim=X_train.shape[1], activation='gelu'))\n",
    "    model.add(Dense(256, input_dim=X_train.shape[1], activation='gelu'))\n",
    "    model.add(Dense(128, input_dim=256, activation='gelu'))\n",
    "    model.add(Dense(64, input_dim=128, activation='gelu'))\n",
    "    model.add(Dense(1, input_dim=64, activation='linear'))\n",
    "    sgd = SGD(learning_rate=0.01, decay=1e-6, momentum=0.9, nesterov=True)\n",
    "    model.compile(loss='mean_squared_error', optimizer=sgd)\n",
    "    return model\n",
    "\n",
    "\n",
    "# model = load_model('data/keras_seq.h5')\n",
    "model = buildmodel()\n",
    "# model = pickle.load(open('data/keras_seq.pickle', 'rb'))"
   ]
  },
  {
   "cell_type": "code",
   "execution_count": 164,
   "metadata": {
    "pycharm": {
     "name": "#%%\n"
    }
   },
   "outputs": [
    {
     "name": "stdout",
     "output_type": "stream",
     "text": [
      "   11/40689 [..............................] - ETA: 3:35 - loss: 0.3481   "
     ]
    },
    {
     "name": "stderr",
     "output_type": "stream",
     "text": [
      "2022-08-16 16:38:44.800597: I tensorflow/core/grappler/optimizers/custom_graph_optimizer_registry.cc:113] Plugin optimizer for device_type GPU is enabled.\n"
     ]
    },
    {
     "name": "stdout",
     "output_type": "stream",
     "text": [
      "40689/40689 [==============================] - 184s 5ms/step - loss: 0.0583\n"
     ]
    }
   ],
   "source": [
    "if not_enough_ram:\n",
    "    gen = train_iterator(ddf, 'target', int(chunksize*0.8))\n",
    "    while True:\n",
    "        # with tf.device('/gpu:0'):\n",
    "        X_train, y_train = next(gen)\n",
    "        model.fit(X_train,\n",
    "                  y_train,\n",
    "                  epochs=1,\n",
    "                  verbose=1)\n",
    "else:\n",
    "    model.fit(X_train,\n",
    "              y_train,\n",
    "              epochs=1,\n",
    "              verbose=1)"
   ]
  },
  {
   "cell_type": "code",
   "execution_count": 165,
   "metadata": {
    "pycharm": {
     "name": "#%%\n"
    }
   },
   "outputs": [],
   "source": [
    "# pickle.dump(model, open('data/keras_seq.pickle', 'wb'))\n",
    "model.save('data/keras_seq.h5')"
   ]
  },
  {
   "cell_type": "code",
   "execution_count": 166,
   "metadata": {
    "pycharm": {
     "name": "#%%\n"
    }
   },
   "outputs": [
    {
     "name": "stdout",
     "output_type": "stream",
     "text": [
      "   98/40689 [..............................] - ETA: 1:03"
     ]
    },
    {
     "name": "stderr",
     "output_type": "stream",
     "text": [
      "2022-08-16 16:41:52.436563: I tensorflow/core/grappler/optimizers/custom_graph_optimizer_registry.cc:113] Plugin optimizer for device_type GPU is enabled.\n"
     ]
    },
    {
     "name": "stdout",
     "output_type": "stream",
     "text": [
      "40689/40689 [==============================] - 63s 2ms/step\n"
     ]
    }
   ],
   "source": [
    "predicted_train = model.predict(X_train)"
   ]
  },
  {
   "cell_type": "code",
   "execution_count": 167,
   "metadata": {
    "pycharm": {
     "name": "#%%\n"
    }
   },
   "outputs": [
    {
     "data": {
      "text/plain": "0.8019607076262991"
     },
     "execution_count": 167,
     "metadata": {},
     "output_type": "execute_result"
    }
   ],
   "source": [
    "roc_auc_score(y_train, predicted_train)"
   ]
  },
  {
   "cell_type": "code",
   "execution_count": 168,
   "metadata": {
    "pycharm": {
     "name": "#%%\n"
    }
   },
   "outputs": [
    {
     "name": "stdout",
     "output_type": "stream",
     "text": [
      "17438/17438 [==============================] - 28s 2ms/step\n"
     ]
    }
   ],
   "source": [
    "predicted_test = model.predict(X_test)"
   ]
  },
  {
   "cell_type": "code",
   "execution_count": 169,
   "metadata": {
    "pycharm": {
     "name": "#%%\n"
    }
   },
   "outputs": [
    {
     "data": {
      "text/plain": "0.8038873310774572"
     },
     "execution_count": 169,
     "metadata": {},
     "output_type": "execute_result"
    }
   ],
   "source": [
    "roc_auc_score(y_test, predicted_test)"
   ]
  },
  {
   "cell_type": "code",
   "execution_count": 170,
   "metadata": {
    "pycharm": {
     "name": "#%%\n"
    }
   },
   "outputs": [],
   "source": []
  }
 ],
 "metadata": {
  "kernelspec": {
   "display_name": "Python 3 (ipykernel)",
   "language": "python",
   "name": "python3"
  },
  "language_info": {
   "codemirror_mode": {
    "name": "ipython",
    "version": 3
   },
   "file_extension": ".py",
   "mimetype": "text/x-python",
   "name": "python",
   "nbconvert_exporter": "python",
   "pygments_lexer": "ipython3",
   "version": "3.9.13"
  },
  "varInspector": {
   "cols": {
    "lenName": 16,
    "lenType": 16,
    "lenVar": 40
   },
   "kernels_config": {
    "python": {
     "delete_cmd_postfix": "",
     "delete_cmd_prefix": "del ",
     "library": "var_list.py",
     "varRefreshCmd": "print(var_dic_list())"
    },
    "r": {
     "delete_cmd_postfix": ") ",
     "delete_cmd_prefix": "rm(",
     "library": "var_list.r",
     "varRefreshCmd": "cat(var_dic_list()) "
    }
   },
   "position": {
    "height": "572.844px",
    "left": "1524px",
    "right": "20px",
    "top": "124px",
    "width": "378px"
   },
   "types_to_exclude": [
    "module",
    "function",
    "builtin_function_or_method",
    "instance",
    "_Feature"
   ],
   "window_display": true
  }
 },
 "nbformat": 4,
 "nbformat_minor": 1
}